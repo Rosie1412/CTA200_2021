{
 "cells": [
  {
   "cell_type": "code",
   "execution_count": 2,
   "metadata": {},
   "outputs": [],
   "source": [
    "import numpy as np\n",
    "import matplotlib.pyplot as plt"
   ]
  },
  {
   "cell_type": "code",
   "execution_count": 3,
   "metadata": {},
   "outputs": [],
   "source": [
    "#INPUT PARAMETERS - all distance measurements are in mm, all angles are in radians\n",
    "\n",
    "#Telescope\n",
    "D_T=500 #diameter\n",
    "F_T=6.8 #focal ratio\n",
    "FOV_X=((.175*(np.pi/180))*.25); FOV_Y=((.233*(np.pi/180))*.33) #effective field of view \n",
    "R=1000 #resolving power\n",
    "\n",
    "#DMD\n",
    "p_M=.0137 #mirror pitch\n",
    "NM_X=750; NM_Y=1000 #number of mirrors in x and y dimensions\n",
    "N_m1=2 #mirrors per slit in each dimension\n",
    "\n",
    "#Grating\n",
    "G=600 #grooves/mm\n",
    "\n",
    "#Detector\n",
    "p_D=.0065 #pixel pitch\n",
    "ND_X=2000; ND_Y=2000\n",
    "S_D=.82 #plate scale of Detector\n",
    "\n",
    "#wavelengths\n",
    "λ_c=.00055 #central\n",
    "λ_max=.0007 #maximum\n",
    "λ_min=.0004 #minimum"
   ]
  },
  {
   "cell_type": "code",
   "execution_count": 5,
   "metadata": {},
   "outputs": [],
   "source": [
    "#TELESCOPE OUTPUTS\n",
    "\n",
    "f_T=F_T*D_T #focal length\n",
    "S_TX=2*f_T*np.tan(FOV_X/2); S_TY=2*f_T*np.tan(FOV_Y/2) #effective image size on telescope focal plane"
   ]
  },
  {
   "cell_type": "code",
   "execution_count": 63,
   "metadata": {},
   "outputs": [],
   "source": [
    "#RELAY OPTICS OUTPUTS\n",
    "\n",
    "M_R=(NM_X*p_M)/S_TX #magnification of relay optics\n",
    "F_R=M_R*F_T #focal ratio"
   ]
  },
  {
   "cell_type": "code",
   "execution_count": 6,
   "metadata": {},
   "outputs": [],
   "source": [
    "#SPECTROGRAPH OUTPUTS \n",
    "\n",
    "F_col=F_T #focal ratio of collimator\n",
    "N_m1=2 #mirrors per slit in each dimension\n",
    "N_p1=S_M/S_D #pixels per mirror\n",
    "M_S=(p_D/p_M)*N_p1 #magnification of spectrograph\n",
    "F_cam=M_S*F_col #focal ratio of camera\n",
    "\n",
    "λ_range=λ_max-λ_min #spectral range\n",
    "Δλ=λ_c/R #spectral resolution\n",
    "BP=round(λ_range/Δλ) #number of bandpasses per spectrum\n",
    "\n",
    "Spec1=int(2*BP) #estimated number of pixels per spectra on detector"
   ]
  },
  {
   "cell_type": "code",
   "execution_count": 19,
   "metadata": {},
   "outputs": [],
   "source": [
    "def plot(array):\n",
    "    \"\"\"This function is a shortcut for plotting figures\"\"\"\n",
    "    plt.figure(figsize=(6,6))\n",
    "    plt.imshow(array.T,extent=[0,ND_X,0,ND_Y], cmap='magma')\n",
    "   # plt.colorbar()\n",
    "    plt.show()"
   ]
  },
  {
   "cell_type": "code",
   "execution_count": 8,
   "metadata": {},
   "outputs": [],
   "source": [
    "#Plot guide for generating image of detector, projected DMD and spectra\n",
    "\n",
    "c_m=.1 #color value of DMD\n",
    "c_s=1 #color value of spectra"
   ]
  },
  {
   "cell_type": "code",
   "execution_count": 17,
   "metadata": {},
   "outputs": [],
   "source": [
    "def spectra(m_x,m_y):\n",
    "    \"\"\"This function takes mirror coordinates from (1,1) to (NM_X,NM_Y) and assigns the detector pixel\n",
    "    values of the corresponding spectrum the color value of c_s. Here we are assuming that every spectrum\n",
    "    is the same length, which is only an approximation\n",
    "    \"\"\"\n",
    "    _dx=int(_dmdx+((N_p1*m_x))); dx_=int(_dx+(2*N_p1))\n",
    "    _dy=int(_dmdy+((N_p1*m_y))); dy_=int(_dy+(2*N_p1))\n",
    "    _s=int(_dx-((Spec1/2)-1)); s_=int(_dx+((Spec1/2)+1))\n",
    "    \n",
    "    if _s<0:\n",
    "        _s=0\n",
    "    if s_>=ND_X:\n",
    "        s_=ND_X\n",
    "    \n",
    "    for x in range(_s,s_):\n",
    "        for y in range(_dy,dy_):\n",
    "            data[x][ND_Y-y]=c_s"
   ]
  },
  {
   "cell_type": "code",
   "execution_count": 18,
   "metadata": {},
   "outputs": [
    {
     "data": {
      "image/png": "[encoded data removed]",
      "text/plain": [
       "<Figure size 600x600 with 1 Axes>"
      ]
     },
     "metadata": {},
     "output_type": "display_data"
    }
   ],
   "source": [
    "#Reseting empty plot of detector and projected DMD\n",
    "data=np.zeros((ND_X,ND_Y))\n",
    "_dmdx=int((ND_X-(N_p1*NM_X))/2)-1; dmdx_=int(ND_X-((ND_X-(N_p1*NM_X))/2))\n",
    "_dmdy=int((ND_Y-(N_p1*NM_Y))/2)-1; dmdy_=int(ND_Y-((ND_Y-(N_p1*NM_Y))/2))\n",
    "\n",
    "for x in range(_dmdx,dmdx_):\n",
    "    for y in range(_dmdy,dmdy_):\n",
    "        data[x][y]=c_m\n",
    "\n",
    "#Plotting the center and corner spectra using the spectra function defined above\n",
    "spectra(375,500); spectra(1,1); spectra(750,1000)\n",
    "plot(data)"
   ]
  }
 ],
 "metadata": {
  "kernelspec": {
   "display_name": "Python 3",
   "language": "python",
   "name": "python3"
  },
  "language_info": {
   "codemirror_mode": {
    "name": "ipython",
    "version": 3
   },
   "file_extension": ".py",
   "mimetype": "text/x-python",
   "name": "python",
   "nbconvert_exporter": "python",
   "pygments_lexer": "ipython3",
   "version": "3.7.0"
  }
 },
 "nbformat": 4,
 "nbformat_minor": 2
}
